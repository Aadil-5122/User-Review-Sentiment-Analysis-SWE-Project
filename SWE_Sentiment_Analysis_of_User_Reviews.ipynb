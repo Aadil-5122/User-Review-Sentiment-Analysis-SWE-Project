{
  "cells": [
    {
      "cell_type": "markdown",
      "metadata": {
        "id": "view-in-github",
        "colab_type": "text"
      },
      "source": [
        "<a href=\"https://colab.research.google.com/github/IqmanS/User-Review-Sentiment-Analysis-SWE-Project/blob/main/SWE_Sentiment_Analysis_of_User_Reviews.ipynb\" target=\"_parent\"><img src=\"https://colab.research.google.com/assets/colab-badge.svg\" alt=\"Open In Colab\"/></a>"
      ]
    },
    {
      "cell_type": "markdown",
      "metadata": {
        "id": "spa6zM_GfuP_"
      },
      "source": [
        "Model"
      ]
    },
    {
      "cell_type": "code",
      "execution_count": 1,
      "metadata": {
        "colab": {
          "base_uri": "https://localhost:8080/"
        },
        "id": "CP6fGuU6ft6I",
        "outputId": "a38ad781-f27b-4c8d-db15-c5a206d23f6f"
      },
      "outputs": [
        {
          "output_type": "stream",
          "name": "stdout",
          "text": [
            "\u001b[?25l     \u001b[90m━━━━━━━━━━━━━━━━━━━━━━━━━━━━━━━━━━━━━━━━\u001b[0m \u001b[32m0.0/322.7 kB\u001b[0m \u001b[31m?\u001b[0m eta \u001b[36m-:--:--\u001b[0m\r\u001b[2K     \u001b[91m━━━━━━━━━━━━━━━━━━━━━\u001b[0m\u001b[91m╸\u001b[0m\u001b[90m━━━━━━━━━━━━━━━━━━\u001b[0m \u001b[32m174.1/322.7 kB\u001b[0m \u001b[31m5.3 MB/s\u001b[0m eta \u001b[36m0:00:01\u001b[0m\r\u001b[2K     \u001b[90m━━━━━━━━━━━━━━━━━━━━━━━━━━━━━━━━━━━━━━━━\u001b[0m \u001b[32m322.7/322.7 kB\u001b[0m \u001b[31m5.9 MB/s\u001b[0m eta \u001b[36m0:00:00\u001b[0m\n",
            "\u001b[?25h\u001b[?25l     \u001b[90m━━━━━━━━━━━━━━━━━━━━━━━━━━━━━━━━━━━━━━━━\u001b[0m \u001b[32m0.0/788.5 kB\u001b[0m \u001b[31m?\u001b[0m eta \u001b[36m-:--:--\u001b[0m\r\u001b[2K     \u001b[91m━━━━━━━━━━━━━━━━━━━━━━━\u001b[0m\u001b[90m╺\u001b[0m\u001b[90m━━━━━━━━━━━━━━━━\u001b[0m \u001b[32m460.8/788.5 kB\u001b[0m \u001b[31m13.8 MB/s\u001b[0m eta \u001b[36m0:00:01\u001b[0m\r\u001b[2K     \u001b[91m━━━━━━━━━━━━━━━━━━━━━━━━━━━━━━━━━━━━━━━\u001b[0m\u001b[91m╸\u001b[0m \u001b[32m788.5/788.5 kB\u001b[0m \u001b[31m13.2 MB/s\u001b[0m eta \u001b[36m0:00:01\u001b[0m\r\u001b[2K     \u001b[90m━━━━━━━━━━━━━━━━━━━━━━━━━━━━━━━━━━━━━━━━\u001b[0m \u001b[32m788.5/788.5 kB\u001b[0m \u001b[31m10.9 MB/s\u001b[0m eta \u001b[36m0:00:00\u001b[0m\n",
            "\u001b[?25h  Preparing metadata (setup.py) ... \u001b[?25l\u001b[?25hdone\n",
            "  Preparing metadata (setup.py) ... \u001b[?25l\u001b[?25hdone\n",
            "\u001b[2K     \u001b[90m━━━━━━━━━━━━━━━━━━━━━━━━━━━━━━━━━━━━━━━━\u001b[0m \u001b[32m981.5/981.5 kB\u001b[0m \u001b[31m20.9 MB/s\u001b[0m eta \u001b[36m0:00:00\u001b[0m\n",
            "\u001b[?25h  Preparing metadata (setup.py) ... \u001b[?25l\u001b[?25hdone\n",
            "\u001b[2K     \u001b[90m━━━━━━━━━━━━━━━━━━━━━━━━━━━━━━━━━━━━━━━━\u001b[0m \u001b[32m53.4/53.4 kB\u001b[0m \u001b[31m7.0 MB/s\u001b[0m eta \u001b[36m0:00:00\u001b[0m\n",
            "\u001b[2K     \u001b[90m━━━━━━━━━━━━━━━━━━━━━━━━━━━━━━━━━━━━━━━━\u001b[0m \u001b[32m508.7/508.7 kB\u001b[0m \u001b[31m26.8 MB/s\u001b[0m eta \u001b[36m0:00:00\u001b[0m\n",
            "\u001b[?25h  Preparing metadata (setup.py) ... \u001b[?25l\u001b[?25hdone\n",
            "\u001b[2K     \u001b[90m━━━━━━━━━━━━━━━━━━━━━━━━━━━━━━━━━━━━━━━━\u001b[0m \u001b[32m19.7/19.7 MB\u001b[0m \u001b[31m68.4 MB/s\u001b[0m eta \u001b[36m0:00:00\u001b[0m\n",
            "\u001b[?25h  Installing build dependencies ... \u001b[?25l\u001b[?25hdone\n",
            "  Getting requirements to build wheel ... \u001b[?25l\u001b[?25hdone\n",
            "  Preparing metadata (pyproject.toml) ... \u001b[?25l\u001b[?25hdone\n",
            "\u001b[2K     \u001b[90m━━━━━━━━━━━━━━━━━━━━━━━━━━━━━━━━━━━━━━━━\u001b[0m \u001b[32m48.8/48.8 kB\u001b[0m \u001b[31m6.4 MB/s\u001b[0m eta \u001b[36m0:00:00\u001b[0m\n",
            "\u001b[?25h  Preparing metadata (setup.py) ... \u001b[?25l\u001b[?25hdone\n",
            "  Building wheel for gdown (pyproject.toml) ... \u001b[?25l\u001b[?25hdone\n",
            "  Building wheel for mpld3 (setup.py) ... \u001b[?25l\u001b[?25hdone\n",
            "  Building wheel for sentencepiece (setup.py) ... \u001b[?25l\u001b[?25hdone\n",
            "  Building wheel for sqlitedict (setup.py) ... \u001b[?25l\u001b[?25hdone\n",
            "  Building wheel for langdetect (setup.py) ... \u001b[?25l\u001b[?25hdone\n",
            "  Building wheel for overrides (setup.py) ... \u001b[?25l\u001b[?25hdone\n",
            "\u001b[31mERROR: pip's dependency resolver does not currently take into account all the packages that are installed. This behaviour is the source of the following dependency conflicts.\n",
            "dask 2023.8.1 requires importlib-metadata>=4.13.0, but you have importlib-metadata 3.10.1 which is incompatible.\u001b[0m\u001b[31m\n",
            "\u001b[0m"
          ]
        }
      ],
      "source": [
        "!pip install flair==0.10 -q"
      ]
    },
    {
      "cell_type": "code",
      "execution_count": 2,
      "metadata": {
        "id": "HsCfVUhQfv0x"
      },
      "outputs": [],
      "source": [
        "import pandas as pd\n",
        "import numpy as np\n",
        "import matplotlib.pyplot as plt\n",
        "import seaborn as sns\n",
        "from flair.models import TextClassifier\n",
        "from flair.data import Sentence\n",
        "from tqdm import tqdm\n",
        "\n",
        "import warnings\n",
        "warnings.filterwarnings(\"ignore\")\n",
        "\n",
        "pd.set_option('display.max_rows', 500)\n",
        "pd.set_option('display.max_columns', 500)\n",
        "pd.set_option('display.width', 2000)\n",
        "pd.set_option('display.max_colwidth', None)\n",
        "pd.options.display.float_format = '{:.4f}'.format"
      ]
    },
    {
      "cell_type": "code",
      "execution_count": 3,
      "metadata": {
        "id": "vskokqq8f2HV"
      },
      "outputs": [],
      "source": [
        "# classifier=TextClassifier.load('en-sentiment')\n",
        "\n",
        "# def senti_score(n):\n",
        "#     s = Sentence(n)\n",
        "#     classifier.predict(s)\n",
        "#     total_sentiment=s.labels[0]\n",
        "#     assert total_sentiment.value in [\"POSITIVE\",\"NEGATIVE\"]\n",
        "#     sign=1 if total_sentiment.value == \"POSITIVE\" else -1\n",
        "#     score=total_sentiment.score\n",
        "#     return sign*score\n",
        "\n",
        "# def sentiment_type(score):\n",
        "#     if score<=0:\n",
        "#         return \"Negative\"\n",
        "#     elif score>0:\n",
        "#         return \"Positive\"\n"
      ]
    },
    {
      "cell_type": "code",
      "execution_count": 4,
      "metadata": {
        "id": "tPg3cAcvgJhA"
      },
      "outputs": [],
      "source": [
        "# review = \"\"\"A wonderful little production.\n",
        "#           The filming technique is very unassuming- very old-time-BBC fashion and gives a comforting, and sometimes discomforting,\n",
        "#           sense of realism to the entire piece.\n",
        "#           The actors are extremely well chosen- Michael Sheen not only 'has got all the polari' but he has all the voices down pat too!\n",
        "#           You can truly see the seamless editing guided by the references to Williams' diary entries, not only is it well worth the watching\n",
        "#           but it is a terrificly written and performed piece. A masterful production about one of the great master's of comedy and his life.\n",
        "#           The realism really comes home with the little things: the fantasy of the guard which, rather than use the traditional 'dream'\n",
        "#           techniques remains solid then disappears. It plays on our knowledge and our senses, particularly with the scenes concerning\n",
        "#           Orton and Halliwell and the sets (particularly of their flat with Halliwell's murals decorating every surface) are terribly\n",
        "#           well done.\"\"\""
      ]
    },
    {
      "cell_type": "code",
      "execution_count": 5,
      "metadata": {
        "id": "qFlunv97gXnJ"
      },
      "outputs": [],
      "source": [
        "# score = senti_score(review)\n",
        "# round(score*2+2.5,4)"
      ]
    },
    {
      "cell_type": "code",
      "execution_count": 6,
      "metadata": {
        "id": "YVF3DzpNgZ-C"
      },
      "outputs": [],
      "source": [
        "# sentiment_type(score)"
      ]
    },
    {
      "cell_type": "markdown",
      "metadata": {
        "id": "vWmc_s2ezvU0"
      },
      "source": [
        "# Run streamlit app from a Google Colab Notebook"
      ]
    },
    {
      "cell_type": "code",
      "execution_count": 7,
      "metadata": {
        "colab": {
          "base_uri": "https://localhost:8080/"
        },
        "id": "RvlYkCQ9vFiy",
        "outputId": "89702bff-24d5-4039-efb2-51221fc1b9bc"
      },
      "outputs": [
        {
          "output_type": "stream",
          "name": "stdout",
          "text": [
            "\u001b[2K     \u001b[90m━━━━━━━━━━━━━━━━━━━━━━━━━━━━━━━━━━━━━━━━\u001b[0m \u001b[32m8.4/8.4 MB\u001b[0m \u001b[31m26.1 MB/s\u001b[0m eta \u001b[36m0:00:00\u001b[0m\n",
            "\u001b[2K     \u001b[90m━━━━━━━━━━━━━━━━━━━━━━━━━━━━━━━━━━━━━━━━\u001b[0m \u001b[32m190.6/190.6 kB\u001b[0m \u001b[31m17.9 MB/s\u001b[0m eta \u001b[36m0:00:00\u001b[0m\n",
            "\u001b[2K     \u001b[90m━━━━━━━━━━━━━━━━━━━━━━━━━━━━━━━━━━━━━━━━\u001b[0m \u001b[32m4.8/4.8 MB\u001b[0m \u001b[31m63.0 MB/s\u001b[0m eta \u001b[36m0:00:00\u001b[0m\n",
            "\u001b[2K     \u001b[90m━━━━━━━━━━━━━━━━━━━━━━━━━━━━━━━━━━━━━━━━\u001b[0m \u001b[32m82.1/82.1 kB\u001b[0m \u001b[31m9.2 MB/s\u001b[0m eta \u001b[36m0:00:00\u001b[0m\n",
            "\u001b[2K     \u001b[90m━━━━━━━━━━━━━━━━━━━━━━━━━━━━━━━━━━━━━━━━\u001b[0m \u001b[32m62.7/62.7 kB\u001b[0m \u001b[31m6.3 MB/s\u001b[0m eta \u001b[36m0:00:00\u001b[0m\n",
            "\u001b[?25h"
          ]
        }
      ],
      "source": [
        "!pip install -q streamlit"
      ]
    },
    {
      "cell_type": "markdown",
      "metadata": {
        "id": "waCfwniZOow8"
      },
      "source": [
        "## Create a streamlit app example\n"
      ]
    },
    {
      "cell_type": "code",
      "execution_count": 8,
      "metadata": {
        "colab": {
          "base_uri": "https://localhost:8080/"
        },
        "id": "meJ36PefNftd",
        "outputId": "94d210e1-31c2-4efa-ad7e-a09c63aa9c18"
      },
      "outputs": [
        {
          "output_type": "stream",
          "name": "stdout",
          "text": [
            "Writing app.py\n"
          ]
        }
      ],
      "source": [
        "%%writefile app.py\n",
        "\n",
        "import pandas as pd\n",
        "import numpy as np\n",
        "import matplotlib.pyplot as plt\n",
        "import seaborn as sns\n",
        "from flair.models import TextClassifier\n",
        "from flair.data import Sentence\n",
        "from tqdm import tqdm\n",
        "\n",
        "\n",
        "classifier=TextClassifier.load('en-sentiment')\n",
        "\n",
        "def senti_score(n):\n",
        "    s = Sentence(n)\n",
        "    classifier.predict(s)\n",
        "    total_sentiment=s.labels[0]\n",
        "    assert total_sentiment.value in [\"POSITIVE\",\"NEGATIVE\"]\n",
        "    sign=1 if total_sentiment.value == \"POSITIVE\" else -1\n",
        "    score=total_sentiment.score\n",
        "    return sign*score\n",
        "\n",
        "def sentiment_type(score):\n",
        "    if score<=0:\n",
        "        return \"Negative\"\n",
        "    elif score>0:\n",
        "        return \"Positive\"\n",
        "\n",
        "\n",
        "import streamlit as st\n",
        "\n",
        "st.title('User-Review Sentiment Analysis')\n",
        "st.markdown('---')\n",
        "\n",
        "inputMessage = st.text_area(\"Enter the text here\")\n",
        "if st.button('Predict'):\n",
        "    score = senti_score(inputMessage)\n",
        "    if sentiment_type(score)=='Positive':\n",
        "        st.header(\"Positive Review\")\n",
        "        st.write(f\"Review Score is {round(score*2+2.5,2)}\")\n",
        "\n",
        "    else:\n",
        "        st.header(\"Negative Review\")\n",
        "        st.write(f\"Review Score is {round(score*2+2.5,2)}\")\n",
        "\n",
        "st.markdown(\"---\")\n",
        "st.header(\"Some Positive Samples:\")\n",
        "st.write(\"\"\"\n",
        "- With tiger 3 we have our perfect trilogy. Action with Emotions and story is the skeleton of this trilogy and Maneesh Sharma(dir) didn't disappoint. There were so many scenes, deja vu moments which reminded me of ett. TZH characters marked their presence beautifully. I got the content i craved for. Tiger3 is a perfect celebration feast for tiger zoya fans. Salman Khan lives tiger. He walks, talks and breathes tiger. His one stare, his subtle dialogue delivery, his chemistry with Katrina, everything was pitch perfect. His stint as tiger would always be my favourite. His body stature is made for those epic back poses. His presence Is god level. He just has to be there on my screen, and my eyes lit up. Emraan Hashmi cake walks. He's simply brilliant. He's effective and scary. Not that he has got unreal weapons or something, but Emraan's aatish was effortlessly menacing. His voice and walk >> Katrina Kaif proves why everyone calls her mother of spy universe. She was the best presented in this movie. Her character add-ons were so good that nothing felt forced or out of place. RUAAN RUAAN IS NEXT BEST OR EQUALLY BEST AS SAIYAARA. That song, the setting, trust me. Makers saved it for the best. Experience it in theatres yourself.\n",
        "- A wonderful little production. The filming technique is very unassuming- very old-time-BBC fashion and gives a comforting, and sometimes discomforting, sense of realism to the entire piece. The actors are extremely well chosen- Michael Sheen not only 'has got all the polari' but he has all the voices down pat too! You can truly see the seamless editing guided by the references to Williams' diary entries, not only is it well worth the watching but it is a terrificly written and performed piece. A masterful production about one of the great master's of comedy and his life. The realism really comes home with the little things: the fantasy of the guard which, rather than use the traditional 'dream' techniques remains solid then disappears. It plays on our knowledge and our senses, particularly with the scenes concerning Orton and Halliwell and the sets (particularly of their flat with Halliwell's murals decorating every surface) are terribly well done.\n",
        "\"\"\")\n",
        "\n",
        "st.header(\"Some Negative Samples:\")\n",
        "st.write(\"\"\"\n",
        "- Traumatized after watching this movie, slept twice in the middle of the movie 😞 The action scenes with body double and slow motion looked like THUMBS UP commercial The review that you see here with five stars are written by Salman Khan himself Most movie is shot on Green scene as Salman Khan is too old to perform his own stunts But he is still doing lunges and calls it dance moves its puzzling why filmmakers invest so much these days in deceiving people everything is poorly executed especially the portrayal of the lead character, which is quite pathetic It's unclear when they will retire old talent and bring in fresh faces from India Several companies openly engage in this practice Just wait a couple of months and you will see the ratings and reviews from real users which will likely drop this movie to less than two stars with numerous negative reviews Liger was a better movies than this tiger 🤣 The plot seems convoluted and lacks coherence jumping from one subplot to another without proper development We can see some vfx issues during fight scenes Overall nothing new Some scene are okay but overall not that much good They should have focused more in the story rather than fighting scene Expected more from Imran and Katrina But didn't get enough chances to make noticable impacts\n",
        "- The most overblown tosh I've seen in years. An hysterical orgy of jump cuts almost designed to obscure the narrative. Endless shots of obsessive indecipherable scrawling on blackboards. Constant employment of that most irritating and hackneyed device, deep discussion on the move. Fabulously distracting use of flashes of fire, electricity, explosions and splitting of the atom throughout: random and unilluminating. Who are these characters? What are their relationships? Up pops the usually dependable Florence Pugh replaced as love interest moments later by Emily Blunt, also a habitually strong turn. By turns black and white and colour, the narrative felt wilfully confusing. Tom Conti’s hammy Einstein was a welcome relief from the endless parade of indistinguishable scientists in suits storming in and out of different, ill explained rooms. Mark Damon exploded occasionally over nothing more than the requirement to provide drama. Awful dramatic music, completely unconnected to the pace of events depicted, signalled an extraordinary event at any moment. These failed to materialise. Nuclear fission is a fairly complex concept for all but the experts I would suggest. This film did nothing to illuminate it for a wider audience. Tricksy, shallow and 3 frikkin hours of it. We ran out half way through to conduct a successful dry martini experiment at home.\n",
        "\"\"\")\n"
      ]
    },
    {
      "cell_type": "markdown",
      "metadata": {
        "id": "xZlEJkmSOoxC"
      },
      "source": [
        "## Install localtunnel"
      ]
    },
    {
      "cell_type": "code",
      "execution_count": 9,
      "metadata": {
        "colab": {
          "base_uri": "https://localhost:8080/"
        },
        "id": "ZAyqQCQVOoxC",
        "outputId": "0624d564-2742-4c9f-df3e-27c48e9da5cc"
      },
      "outputs": [
        {
          "output_type": "stream",
          "name": "stdout",
          "text": [
            "\u001b[K\u001b[?25h\u001b[37;40mnpm\u001b[0m \u001b[0m\u001b[30;43mWARN\u001b[0m \u001b[0m\u001b[35msaveError\u001b[0m ENOENT: no such file or directory, open '/content/package.json'\n",
            "\u001b[K\u001b[?25h\u001b[37;40mnpm\u001b[0m \u001b[0m\u001b[34;40mnotice\u001b[0m\u001b[35m\u001b[0m created a lockfile as package-lock.json. You should commit this file.\n",
            "\u001b[0m\u001b[37;40mnpm\u001b[0m \u001b[0m\u001b[30;43mWARN\u001b[0m \u001b[0m\u001b[35menoent\u001b[0m ENOENT: no such file or directory, open '/content/package.json'\n",
            "\u001b[0m\u001b[37;40mnpm\u001b[0m \u001b[0m\u001b[30;43mWARN\u001b[0m\u001b[35m\u001b[0m content No description\n",
            "\u001b[0m\u001b[37;40mnpm\u001b[0m \u001b[0m\u001b[30;43mWARN\u001b[0m\u001b[35m\u001b[0m content No repository field.\n",
            "\u001b[0m\u001b[37;40mnpm\u001b[0m \u001b[0m\u001b[30;43mWARN\u001b[0m\u001b[35m\u001b[0m content No README data\n",
            "\u001b[0m\u001b[37;40mnpm\u001b[0m \u001b[0m\u001b[30;43mWARN\u001b[0m\u001b[35m\u001b[0m content No license field.\n",
            "\u001b[0m\n",
            "+ localtunnel@2.0.2\n",
            "added 22 packages from 22 contributors and audited 22 packages in 2.929s\n",
            "\n",
            "3 packages are looking for funding\n",
            "  run `npm fund` for details\n",
            "\n",
            "found 1 \u001b[93mmoderate\u001b[0m severity vulnerability\n",
            "  run `npm audit fix` to fix them, or `npm audit` for details\n",
            "\u001b[K\u001b[?25h"
          ]
        }
      ],
      "source": [
        "!npm install localtunnel"
      ]
    },
    {
      "cell_type": "markdown",
      "metadata": {
        "id": "kccYE2lkN20y"
      },
      "source": [
        "## Run streamlit in background"
      ]
    },
    {
      "cell_type": "code",
      "execution_count": 10,
      "metadata": {
        "id": "Zv912rRAN0fs"
      },
      "outputs": [],
      "source": [
        "!streamlit run /content/app.py &>/content/logs.txt &"
      ]
    },
    {
      "cell_type": "markdown",
      "metadata": {
        "id": "h_KW9juhOCuH"
      },
      "source": [
        "## Expose the port 8501\n",
        "Then just click in the `url` showed.\n",
        "\n",
        "A `log.txt`file will be created."
      ]
    },
    {
      "cell_type": "code",
      "execution_count": null,
      "metadata": {
        "colab": {
          "base_uri": "https://localhost:8080/"
        },
        "id": "XTGAizLhOIgC",
        "outputId": "b62c42f7-6449-4b72-d753-ae1881b0a869"
      },
      "outputs": [
        {
          "metadata": {
            "tags": null
          },
          "name": "stdout",
          "output_type": "stream",
          "text": [
            "\u001b[K\u001b[?25hnpx: installed 22 in 4.418s\n",
            "your url is: https://legal-zebras-tell.loca.lt\n"
          ]
        }
      ],
      "source": [
        "!npx localtunnel --port 8501"
      ]
    }
  ],
  "metadata": {
    "colab": {
      "provenance": [],
      "include_colab_link": true
    },
    "kernelspec": {
      "display_name": "Python 3",
      "name": "python3"
    }
  },
  "nbformat": 4,
  "nbformat_minor": 0
}